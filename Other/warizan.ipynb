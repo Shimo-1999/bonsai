{
 "metadata": {
  "language_info": {
   "codemirror_mode": {
    "name": "ipython",
    "version": 3
   },
   "file_extension": ".py",
   "mimetype": "text/x-python",
   "name": "python",
   "nbconvert_exporter": "python",
   "pygments_lexer": "ipython3",
   "version": "3.8.6"
  },
  "orig_nbformat": 2,
  "kernelspec": {
   "name": "python386jvsc74a57bd0fbdbfe159551368d1b9dcc933ca3116e2201ed7007cd5fb008271e5e6c9bdb66",
   "display_name": "Python 3.8.6 64-bit ('3.8.6': pyenv)"
  }
 },
 "nbformat": 4,
 "nbformat_minor": 2,
 "cells": [
  {
   "source": [
    "# 割り算の余りを非負にする\n",
    "---"
   ],
   "cell_type": "markdown",
   "metadata": {}
  },
  {
   "source": [
    "### 割る数，割られる数が負の数のとき，結果は以下のようになります"
   ],
   "cell_type": "markdown",
   "metadata": {}
  },
  {
   "cell_type": "code",
   "execution_count": 4,
   "metadata": {},
   "outputs": [
    {
     "output_type": "stream",
     "name": "stdout",
     "text": [
      " 7 ÷  3 = 2 あまり 1\n-7 ÷  3 = -3 あまり 2\n 7 ÷ -3 = -3 あまり -2\n-7 ÷ -3 = 2 あまり -1\n"
     ]
    }
   ],
   "source": [
    "print(' 7 ÷  3 =', 7 // 3, 'あまり', 7 % 3)\n",
    "print('-7 ÷  3 =', (-7) // 3, 'あまり', (-7) % 3)\n",
    "print(' 7 ÷ -3 =', 7 // (-3), 'あまり', 7 % (-3))\n",
    "print('-7 ÷ -3 =', (-7) // (-3), 'あまり', (-7) % (-3))"
   ]
  },
  {
   "source": [
    "### あまりを 0 以上にする関数を作ります"
   ],
   "cell_type": "markdown",
   "metadata": {}
  },
  {
   "cell_type": "code",
   "execution_count": 41,
   "metadata": {},
   "outputs": [
    {
     "output_type": "stream",
     "name": "stdout",
     "text": [
      " 7 ÷  3 = (2, 1)\n-7 ÷  3 = (-3, 2)\n 7 ÷ -3 = (-2, 1)\n-7 ÷ -3 = (3, 2)\n"
     ]
    }
   ],
   "source": [
    "def warizan(x, n):\n",
    "    sho = x // n\n",
    "    amari = x % n\n",
    "\n",
    "    if amari >= 0:\n",
    "        return sho, amari\n",
    "    else:\n",
    "        return sho + 1, amari - n\n",
    "\n",
    "\n",
    "print(' 7 ÷  3 =', warizan(7, 3))\n",
    "print('-7 ÷  3 =', warizan(-7, 3))\n",
    "print(' 7 ÷ -3 =', warizan(7, -3))\n",
    "print('-7 ÷ -3 =', warizan(-7, -3))"
   ]
  },
  {
   "source": [
    "### これを用いて，n < 0 にも拡張した，n 進数を求めることができます"
   ],
   "cell_type": "markdown",
   "metadata": {}
  },
  {
   "cell_type": "code",
   "execution_count": 42,
   "metadata": {},
   "outputs": [],
   "source": [
    "def solve(n, k):\n",
    "    ans = ''\n",
    "    while n != 0:\n",
    "        sho, amari = warizan(n, k)\n",
    "        n = sho\n",
    "        ans = str(amari) + ans\n",
    "\n",
    "    if ans:\n",
    "        return ans\n",
    "    else:\n",
    "        return 0\n"
   ]
  },
  {
   "cell_type": "code",
   "execution_count": 43,
   "metadata": {},
   "outputs": [
    {
     "output_type": "stream",
     "name": "stdout",
     "text": [
      "11001\n"
     ]
    }
   ],
   "source": [
    "print(solve(9, -2))"
   ]
  },
  {
   "source": [
    "$$\n",
    "1 \\times (-2)^4 + 1 \\times (-2)^3 + 0 \\times (-2)^2 + 0 \\times (-2)^1 + 1 \\times (-2)^0 = 9\n",
    "$$"
   ],
   "cell_type": "markdown",
   "metadata": {}
  },
  {
   "cell_type": "code",
   "execution_count": 44,
   "metadata": {},
   "outputs": [
    {
     "output_type": "stream",
     "name": "stdout",
     "text": [
      "1211\n"
     ]
    }
   ],
   "source": [
    "print(solve(-11, -3))"
   ]
  },
  {
   "source": [
    "\n",
    "$$\n",
    "1 \\times (-3)^3 + 2 \\times (-3)^2 + 1 \\times (-3)^1 + 1 \\times (-3)^0 = -11\n",
    "$$"
   ],
   "cell_type": "markdown",
   "metadata": {}
  },
  {
   "source": [
    "### 以上を用いて，以下のコードで[ABC105_C](https://atcoder.jp/contests/abc105/tasks/abc105_c) が解けます．"
   ],
   "cell_type": "markdown",
   "metadata": {}
  },
  {
   "cell_type": "code",
   "execution_count": 46,
   "metadata": {},
   "outputs": [],
   "source": [
    "def warizan(x, n):\n",
    "    sho = x // n\n",
    "    amari = x % n\n",
    "\n",
    "    if amari >= 0:\n",
    "        return sho, amari\n",
    "    else:\n",
    "        return sho + 1, amari - n\n",
    "\n",
    "def solve(n, k):\n",
    "    ans = ''\n",
    "    while n != 0:\n",
    "        sho, amari = warizan(n, k)\n",
    "        n = sho\n",
    "        ans = str(amari) + ans\n",
    "\n",
    "    if ans:\n",
    "        return ans\n",
    "    else:\n",
    "        return 0\n",
    "\n",
    "# n = int(input())\n",
    "# print(solve(n, -2))"
   ]
  },
  {
   "cell_type": "code",
   "execution_count": null,
   "metadata": {},
   "outputs": [],
   "source": []
  }
 ]
}